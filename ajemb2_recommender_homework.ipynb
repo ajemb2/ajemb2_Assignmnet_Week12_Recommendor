{
 "cells": [
  {
   "cell_type": "code",
   "execution_count": 1,
   "metadata": {
    "collapsed": false
   },
   "outputs": [],
   "source": [
    "import pandas as pd\n",
    "import numpy as np"
   ]
  },
  {
   "cell_type": "code",
   "execution_count": 2,
   "metadata": {
    "collapsed": false
   },
   "outputs": [],
   "source": [
    "#download the class movie reviews from here:\n",
    "#https://docs.google.com/spreadsheets/d/17rCJzmWxqvAu9rkpkgt4ToccIlY4A1Ffuu1W9X3B8Ag/\n",
    "#then read that in as a pandas dataframe"
   ]
  },
  {
   "cell_type": "code",
   "execution_count": 3,
   "metadata": {
    "collapsed": false
   },
   "outputs": [],
   "source": [
    "M = pd.read_csv(\"Movie Reviews.csv\", index_col='Name')"
   ]
  },
  {
   "cell_type": "code",
   "execution_count": 4,
   "metadata": {
    "collapsed": false
   },
   "outputs": [],
   "source": [
    "def pearson(s1, s2):\n",
    "    \"\"\"Take two pd.Series objects and return a pearson correlation.\"\"\"\n",
    "    s1_c = s1 - s1.mean()\n",
    "    s2_c = s2 - s2.mean()\n",
    "    return np.sum(s1_c * s2_c) / np.sqrt(np.sum(s1_c ** 2) * np.sum(s2_c ** 2))"
   ]
  },
  {
   "cell_type": "code",
   "execution_count": 5,
   "metadata": {
    "collapsed": false
   },
   "outputs": [],
   "source": [
    "def get_recs(movie_name, M, num):\n",
    "\n",
    "    import numpy as np\n",
    "    reviews = []\n",
    "    for title in M.columns:\n",
    "        if title == movie_name:\n",
    "            continue\n",
    "        cor = pearson(M[movie_name], M[title])\n",
    "        if np.isnan(cor):\n",
    "            continue\n",
    "        else:\n",
    "            reviews.append((title, cor))\n",
    "    \n",
    "    reviews.sort(key=lambda tup: tup[1], reverse=True)\n",
    "    return reviews[:num]\n",
    "\n",
    "    "
   ]
  },
  {
   "cell_type": "markdown",
   "metadata": {},
   "source": [
    "###Question 1:  What movie is most Similar to 'The fault in our stars' (60 pts)\n"
   ]
  },
  {
   "cell_type": "code",
   "execution_count": 6,
   "metadata": {
    "collapsed": false
   },
   "outputs": [
    {
     "data": {
      "text/html": [
       "<div>\n",
       "<table border=\"1\" class=\"dataframe\">\n",
       "  <thead>\n",
       "    <tr style=\"text-align: right;\">\n",
       "      <th></th>\n",
       "      <th>American Sniper</th>\n",
       "      <th>The Hunger Games: Mockingjay - Part 1</th>\n",
       "      <th>Guardians of the Galaxy</th>\n",
       "      <th>The Lego Movie</th>\n",
       "      <th>The Hobbit</th>\n",
       "      <th>Transformers</th>\n",
       "      <th>Malificent</th>\n",
       "      <th>Big Hero 6</th>\n",
       "      <th>Godzilla</th>\n",
       "      <th>Interstellar</th>\n",
       "      <th>How to Train your Dragon 2</th>\n",
       "      <th>Gone Girl</th>\n",
       "      <th>Divergent</th>\n",
       "      <th>The Fault in Our Stars</th>\n",
       "      <th>Unbroken</th>\n",
       "      <th>300: Rise of an Empire</th>\n",
       "    </tr>\n",
       "    <tr>\n",
       "      <th>Name</th>\n",
       "      <th></th>\n",
       "      <th></th>\n",
       "      <th></th>\n",
       "      <th></th>\n",
       "      <th></th>\n",
       "      <th></th>\n",
       "      <th></th>\n",
       "      <th></th>\n",
       "      <th></th>\n",
       "      <th></th>\n",
       "      <th></th>\n",
       "      <th></th>\n",
       "      <th></th>\n",
       "      <th></th>\n",
       "      <th></th>\n",
       "      <th></th>\n",
       "    </tr>\n",
       "  </thead>\n",
       "  <tbody>\n",
       "    <tr>\n",
       "      <th>Camron  Khan</th>\n",
       "      <td>4.0</td>\n",
       "      <td>4.0</td>\n",
       "      <td>3.0</td>\n",
       "      <td>2.0</td>\n",
       "      <td>3.0</td>\n",
       "      <td>NaN</td>\n",
       "      <td>NaN</td>\n",
       "      <td>NaN</td>\n",
       "      <td>3.0</td>\n",
       "      <td>4.0</td>\n",
       "      <td>NaN</td>\n",
       "      <td>4.0</td>\n",
       "      <td>NaN</td>\n",
       "      <td>NaN</td>\n",
       "      <td>4.0</td>\n",
       "      <td>NaN</td>\n",
       "    </tr>\n",
       "    <tr>\n",
       "      <th>Prachi Jain</th>\n",
       "      <td>NaN</td>\n",
       "      <td>3.0</td>\n",
       "      <td>NaN</td>\n",
       "      <td>NaN</td>\n",
       "      <td>4.0</td>\n",
       "      <td>2.5</td>\n",
       "      <td>NaN</td>\n",
       "      <td>2.0</td>\n",
       "      <td>3.0</td>\n",
       "      <td>5.0</td>\n",
       "      <td>4.0</td>\n",
       "      <td>4.0</td>\n",
       "      <td>3.0</td>\n",
       "      <td>5.0</td>\n",
       "      <td>NaN</td>\n",
       "      <td>4.0</td>\n",
       "    </tr>\n",
       "    <tr>\n",
       "      <th>Randy Moyers</th>\n",
       "      <td>4.0</td>\n",
       "      <td>4.0</td>\n",
       "      <td>5.0</td>\n",
       "      <td>NaN</td>\n",
       "      <td>4.0</td>\n",
       "      <td>3.0</td>\n",
       "      <td>NaN</td>\n",
       "      <td>NaN</td>\n",
       "      <td>3.0</td>\n",
       "      <td>4.0</td>\n",
       "      <td>3.0</td>\n",
       "      <td>NaN</td>\n",
       "      <td>4.0</td>\n",
       "      <td>NaN</td>\n",
       "      <td>NaN</td>\n",
       "      <td>3.0</td>\n",
       "    </tr>\n",
       "    <tr>\n",
       "      <th>Sailokesh</th>\n",
       "      <td>5.0</td>\n",
       "      <td>4.0</td>\n",
       "      <td>4.0</td>\n",
       "      <td>3.0</td>\n",
       "      <td>5.0</td>\n",
       "      <td>4.0</td>\n",
       "      <td>NaN</td>\n",
       "      <td>NaN</td>\n",
       "      <td>4.0</td>\n",
       "      <td>5.0</td>\n",
       "      <td>3.0</td>\n",
       "      <td>NaN</td>\n",
       "      <td>NaN</td>\n",
       "      <td>4.0</td>\n",
       "      <td>NaN</td>\n",
       "      <td>3.0</td>\n",
       "    </tr>\n",
       "    <tr>\n",
       "      <th>Jemberie A</th>\n",
       "      <td>5.0</td>\n",
       "      <td>2.0</td>\n",
       "      <td>2.0</td>\n",
       "      <td>2.0</td>\n",
       "      <td>2.0</td>\n",
       "      <td>3.0</td>\n",
       "      <td>NaN</td>\n",
       "      <td>NaN</td>\n",
       "      <td>2.0</td>\n",
       "      <td>NaN</td>\n",
       "      <td>NaN</td>\n",
       "      <td>NaN</td>\n",
       "      <td>NaN</td>\n",
       "      <td>NaN</td>\n",
       "      <td>NaN</td>\n",
       "      <td>NaN</td>\n",
       "    </tr>\n",
       "  </tbody>\n",
       "</table>\n",
       "</div>"
      ],
      "text/plain": [
       "              American Sniper  The Hunger Games: Mockingjay - Part 1  \\\n",
       "Name                                                                   \n",
       "Camron  Khan              4.0                                    4.0   \n",
       "Prachi Jain               NaN                                    3.0   \n",
       "Randy Moyers              4.0                                    4.0   \n",
       "Sailokesh                 5.0                                    4.0   \n",
       "Jemberie A                5.0                                    2.0   \n",
       "\n",
       "              Guardians of the Galaxy  The Lego Movie  The Hobbit  \\\n",
       "Name                                                                \n",
       "Camron  Khan                      3.0             2.0         3.0   \n",
       "Prachi Jain                       NaN             NaN         4.0   \n",
       "Randy Moyers                      5.0             NaN         4.0   \n",
       "Sailokesh                         4.0             3.0         5.0   \n",
       "Jemberie A                        2.0             2.0         2.0   \n",
       "\n",
       "              Transformers  Malificent  Big Hero 6  Godzilla  Interstellar  \\\n",
       "Name                                                                         \n",
       "Camron  Khan           NaN         NaN         NaN       3.0           4.0   \n",
       "Prachi Jain            2.5         NaN         2.0       3.0           5.0   \n",
       "Randy Moyers           3.0         NaN         NaN       3.0           4.0   \n",
       "Sailokesh              4.0         NaN         NaN       4.0           5.0   \n",
       "Jemberie A             3.0         NaN         NaN       2.0           NaN   \n",
       "\n",
       "              How to Train your Dragon 2  Gone Girl  Divergent  \\\n",
       "Name                                                             \n",
       "Camron  Khan                         NaN        4.0        NaN   \n",
       "Prachi Jain                          4.0        4.0        3.0   \n",
       "Randy Moyers                         3.0        NaN        4.0   \n",
       "Sailokesh                            3.0        NaN        NaN   \n",
       "Jemberie A                           NaN        NaN        NaN   \n",
       "\n",
       "              The Fault in Our Stars  Unbroken  300: Rise of an Empire  \n",
       "Name                                                                    \n",
       "Camron  Khan                     NaN       4.0                     NaN  \n",
       "Prachi Jain                      5.0       NaN                     4.0  \n",
       "Randy Moyers                     NaN       NaN                     3.0  \n",
       "Sailokesh                        4.0       NaN                     3.0  \n",
       "Jemberie A                       NaN       NaN                     NaN  "
      ]
     },
     "execution_count": 6,
     "metadata": {},
     "output_type": "execute_result"
    }
   ],
   "source": [
    "M.tail()"
   ]
  },
  {
   "cell_type": "code",
   "execution_count": 7,
   "metadata": {
    "collapsed": false
   },
   "outputs": [],
   "source": [
    "recs = get_recs('The Fault in Our Stars', M, 10)"
   ]
  },
  {
   "cell_type": "code",
   "execution_count": 8,
   "metadata": {
    "collapsed": false
   },
   "outputs": [
    {
     "data": {
      "text/plain": [
       "[('Interstellar', 0.238430370597431),\n",
       " ('Malificent', 0.20294179241370683),\n",
       " ('Divergent', 0.16250996411209925),\n",
       " ('How to Train your Dragon 2', 0.15745448009029445),\n",
       " ('Guardians of the Galaxy', 0.13809428282337494),\n",
       " ('Unbroken', 0.077441423238064966),\n",
       " ('Gone Girl', 0.07078093732420293),\n",
       " ('The Lego Movie', 0.045235297811591212),\n",
       " ('The Hunger Games: Mockingjay - Part 1', 0.040420586830783443),\n",
       " ('The Hobbit', -0.011492260884362273)]"
      ]
     },
     "execution_count": 8,
     "metadata": {},
     "output_type": "execute_result"
    }
   ],
   "source": [
    "recs[:10]"
   ]
  },
  {
   "cell_type": "markdown",
   "metadata": {},
   "source": [
    "Answer: 'Intertellar' is the most similar to 'The Faut in Our Stars' because it has the highet Pearson's corr. coef. (0238)"
   ]
  },
  {
   "cell_type": "markdown",
   "metadata": {},
   "source": [
    "###Question 2:  Which movie(s) would you most like to see, based on your classmates experience? (40 pts)"
   ]
  },
  {
   "cell_type": "code",
   "execution_count": 9,
   "metadata": {
    "collapsed": false
   },
   "outputs": [],
   "source": [
    "#HINTS...\n",
    "\n",
    "#the movies I've seen\n",
    "my_ratings = M.ix['Jemberie A'].dropna()\n",
    "#the movie I've rated the highest\n",
    "#my_ratings.sort(ascending=False)\n",
    "#the name of the movie I've rated the highest\n",
    "fav_movie = my_ratings.index[0]"
   ]
  },
  {
   "cell_type": "code",
   "execution_count": 10,
   "metadata": {
    "collapsed": true
   },
   "outputs": [],
   "source": [
    "# Moviews I watched\n",
    "my_ratings = M.ix['Jemberie A'].dropna()"
   ]
  },
  {
   "cell_type": "code",
   "execution_count": 11,
   "metadata": {
    "collapsed": false
   },
   "outputs": [
    {
     "data": {
      "text/plain": [
       "American Sniper                          5.0\n",
       "The Hunger Games: Mockingjay - Part 1    2.0\n",
       "Guardians of the Galaxy                  2.0\n",
       "The Lego Movie                           2.0\n",
       "The Hobbit                               2.0\n",
       "Name: Jemberie A, dtype: float64"
      ]
     },
     "execution_count": 11,
     "metadata": {},
     "output_type": "execute_result"
    }
   ],
   "source": [
    "my_ratings.head()"
   ]
  },
  {
   "cell_type": "markdown",
   "metadata": {},
   "source": [
    "which movies are most similar (correlated) with the 'American Sniper\" movie that I gave the highest rating?"
   ]
  },
  {
   "cell_type": "code",
   "execution_count": 12,
   "metadata": {
    "collapsed": true
   },
   "outputs": [],
   "source": [
    "recs= get_recs('American Sniper', M, 10)"
   ]
  },
  {
   "cell_type": "code",
   "execution_count": 13,
   "metadata": {
    "collapsed": false
   },
   "outputs": [
    {
     "data": {
      "text/plain": [
       "[('Gone Girl', 0.1738611661722366),\n",
       " ('The Lego Movie', 0.14976746105718677),\n",
       " ('Interstellar', 0.14215267600384099),\n",
       " ('300: Rise of an Empire', 0.12038197937590159),\n",
       " ('How to Train your Dragon 2', 0.076444852566892527),\n",
       " ('Transformers', 0.04091514787847831),\n",
       " ('Godzilla', -0.016323016913696278),\n",
       " ('The Hobbit', -0.020058464498153392),\n",
       " ('Guardians of the Galaxy', -0.050427299147645092),\n",
       " ('Divergent', -0.057356138219302751)]"
      ]
     },
     "execution_count": 13,
     "metadata": {},
     "output_type": "execute_result"
    }
   ],
   "source": [
    "recs[:10]"
   ]
  },
  {
   "cell_type": "markdown",
   "metadata": {},
   "source": [
    "Answer: Based on the above recommendation (Pearson's correlation coefficients), I would most likely watch 'Gone Girl' and may be 'The Lego Movie' and 'Interstellar' movies"
   ]
  },
  {
   "cell_type": "markdown",
   "metadata": {},
   "source": [
    "###Question 3: Bonus Question...  For all the movies you haven't seen, can you predict how you'd rate them using your the class reviews? (10 pts)"
   ]
  },
  {
   "cell_type": "code",
   "execution_count": 14,
   "metadata": {
    "collapsed": true
   },
   "outputs": [],
   "source": [
    "#Rating of Moviews that I watched. NaN values are because I did not watch those movies.\n",
    "my_ratings = M.ix['Jemberie A']"
   ]
  },
  {
   "cell_type": "code",
   "execution_count": 15,
   "metadata": {
    "collapsed": false
   },
   "outputs": [
    {
     "data": {
      "text/plain": [
       "American Sniper                          5.0\n",
       "The Hunger Games: Mockingjay - Part 1    2.0\n",
       "Guardians of the Galaxy                  2.0\n",
       "The Lego Movie                           2.0\n",
       "The Hobbit                               2.0\n",
       "Transformers                             3.0\n",
       "Malificent                               NaN\n",
       "Big Hero 6                               NaN\n",
       "Godzilla                                 2.0\n",
       "Interstellar                             NaN\n",
       "How to Train your Dragon 2               NaN\n",
       "Gone Girl                                NaN\n",
       "Divergent                                NaN\n",
       "The Fault in Our Stars                   NaN\n",
       "Unbroken                                 NaN\n",
       "300: Rise of an Empire                   NaN\n",
       "Name: Jemberie A, dtype: float64"
      ]
     },
     "execution_count": 15,
     "metadata": {},
     "output_type": "execute_result"
    }
   ],
   "source": [
    "my_ratings"
   ]
  },
  {
   "cell_type": "code",
   "execution_count": 16,
   "metadata": {
    "collapsed": false
   },
   "outputs": [],
   "source": [
    "# My highest rating is for 'American Sniper'. I am searching viwers who rated this move the same as mine (highest). \n",
    "#If found , I most likely rate the moviews that I did not watch just like those rated 'American Sniper' the highest.\n",
    "viwer_amsnpr = M.ix[:,'American Sniper'].dropna()"
   ]
  },
  {
   "cell_type": "code",
   "execution_count": 17,
   "metadata": {
    "collapsed": false
   },
   "outputs": [
    {
     "data": {
      "text/plain": [
       "Name\n",
       "Aarti Jaiswal         4.0\n",
       "Aditya Dharmasagar    5.0\n",
       "Ahmed Muheebuddin     5.0\n",
       "Andrew Webb           4.0\n",
       "Anirudh               3.0\n",
       "anurag                4.0\n",
       "Arun Vedere           4.0\n",
       "Ashutosh Sureka       5.0\n",
       "Aswini kumar          4.0\n",
       "azam                  4.0\n",
       "Name: American Sniper, dtype: float64"
      ]
     },
     "execution_count": 17,
     "metadata": {},
     "output_type": "execute_result"
    }
   ],
   "source": [
    "viwer_amsnpr[:10]"
   ]
  },
  {
   "cell_type": "code",
   "execution_count": 18,
   "metadata": {
    "collapsed": false
   },
   "outputs": [],
   "source": [
    "# The following three individuals rated 'American Sniper' the highest.\n",
    "viwer1 = M.ix['Aditya Dharmasagar']"
   ]
  },
  {
   "cell_type": "code",
   "execution_count": 19,
   "metadata": {
    "collapsed": true
   },
   "outputs": [],
   "source": [
    "viwer2 = M.ix['Ahmed Muheebuddin']"
   ]
  },
  {
   "cell_type": "code",
   "execution_count": 20,
   "metadata": {
    "collapsed": true
   },
   "outputs": [],
   "source": [
    "viwer3 = M.ix['Ashutosh Sureka']"
   ]
  },
  {
   "cell_type": "code",
   "execution_count": 21,
   "metadata": {
    "collapsed": false
   },
   "outputs": [
    {
     "data": {
      "text/plain": [
       "American Sniper               5.0\n",
       "The Lego Movie                4.0\n",
       "The Hobbit                    5.0\n",
       "Transformers                  4.0\n",
       "Malificent                    4.0\n",
       "Godzilla                      4.0\n",
       "Interstellar                  5.0\n",
       "How to Train your Dragon 2    5.0\n",
       "Gone Girl                     5.0\n",
       "Divergent                     4.0\n",
       "The Fault in Our Stars        4.0\n",
       "300: Rise of an Empire        5.0\n",
       "Name: Aditya Dharmasagar, dtype: float64"
      ]
     },
     "execution_count": 21,
     "metadata": {},
     "output_type": "execute_result"
    }
   ],
   "source": [
    "viwer1.dropna()"
   ]
  },
  {
   "cell_type": "code",
   "execution_count": 22,
   "metadata": {
    "collapsed": false
   },
   "outputs": [
    {
     "data": {
      "text/plain": [
       "American Sniper            5.0\n",
       "Guardians of the Galaxy    4.0\n",
       "The Hobbit                 3.0\n",
       "Name: Ahmed Muheebuddin, dtype: float64"
      ]
     },
     "execution_count": 22,
     "metadata": {},
     "output_type": "execute_result"
    }
   ],
   "source": [
    "viwer2.dropna()"
   ]
  },
  {
   "cell_type": "code",
   "execution_count": 23,
   "metadata": {
    "collapsed": false
   },
   "outputs": [
    {
     "data": {
      "text/plain": [
       "American Sniper                          5.0\n",
       "The Hunger Games: Mockingjay - Part 1    4.0\n",
       "Guardians of the Galaxy                  5.0\n",
       "The Lego Movie                           5.0\n",
       "The Hobbit                               5.0\n",
       "Transformers                             5.0\n",
       "Malificent                               0.0\n",
       "Big Hero 6                               5.0\n",
       "Godzilla                                 2.0\n",
       "Interstellar                             3.0\n",
       "How to Train your Dragon 2               5.0\n",
       "Gone Girl                                3.0\n",
       "Divergent                                3.0\n",
       "The Fault in Our Stars                   2.0\n",
       "Unbroken                                 2.0\n",
       "300: Rise of an Empire                   4.0\n",
       "Name: Ashutosh Sureka, dtype: float64"
      ]
     },
     "execution_count": 23,
     "metadata": {},
     "output_type": "execute_result"
    }
   ],
   "source": [
    "viwer3.dropna()"
   ]
  },
  {
   "cell_type": "code",
   "execution_count": 24,
   "metadata": {
    "collapsed": false
   },
   "outputs": [
    {
     "ename": "NameError",
     "evalue": "name 'My_moviews' is not defined",
     "output_type": "error",
     "traceback": [
      "\u001b[0;31m---------------------------------------------------------------------------\u001b[0m",
      "\u001b[0;31mNameError\u001b[0m                                 Traceback (most recent call last)",
      "\u001b[0;32m<ipython-input-24-d173df47c8c9>\u001b[0m in \u001b[0;36m<module>\u001b[0;34m()\u001b[0m\n\u001b[1;32m      1\u001b[0m \u001b[1;31m# My ratings\u001b[0m\u001b[1;33m\u001b[0m\u001b[1;33m\u001b[0m\u001b[0m\n\u001b[0;32m----> 2\u001b[0;31m \u001b[0mMy_moviews\u001b[0m\u001b[1;33m\u001b[0m\u001b[0m\n\u001b[0m",
      "\u001b[0;31mNameError\u001b[0m: name 'My_moviews' is not defined"
     ]
    }
   ],
   "source": [
    "# My ratings\n",
    "My_moviews"
   ]
  },
  {
   "cell_type": "markdown",
   "metadata": {},
   "source": [
    "Answer:\n",
    " Based on the above three individuals ratings, I would rate the movies that I didn't watch as follows:\n",
    "'Malificent' = 4+0/2 = 2; 'Big Hero 6' = 5; 'Interstellar'=5+3/2 = 4;  'How to Train your Dragon 2'=5+5/2 =5;\n",
    "'Gone Girl' = 5+3/2=4; 'Divergent' = 4+3/2 = 3; 'The Fault in Our Stars'=4+2/2 = 3; 'unbroken'= 2; \n",
    "'300: Rise of an Empire'= 5+4/2 = 4"
   ]
  },
  {
   "cell_type": "code",
   "execution_count": null,
   "metadata": {
    "collapsed": true
   },
   "outputs": [],
   "source": []
  }
 ],
 "metadata": {
  "kernelspec": {
   "display_name": "Python 2",
   "language": "python",
   "name": "python2"
  },
  "language_info": {
   "codemirror_mode": {
    "name": "ipython",
    "version": 2
   },
   "file_extension": ".py",
   "mimetype": "text/x-python",
   "name": "python",
   "nbconvert_exporter": "python",
   "pygments_lexer": "ipython2",
   "version": "2.7.13"
  }
 },
 "nbformat": 4,
 "nbformat_minor": 0
}
